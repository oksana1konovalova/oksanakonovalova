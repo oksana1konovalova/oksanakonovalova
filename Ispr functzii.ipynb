{
 "cells": [
  {
   "cell_type": "code",
   "execution_count": 6,
   "metadata": {},
   "outputs": [],
   "source": [
    "#Исправленный вариант "
   ]
  },
  {
   "cell_type": "code",
   "execution_count": 7,
   "metadata": {},
   "outputs": [],
   "source": [
    "def ch_group(students_dict, student_id, group_id):\n",
    "    if student_id in students_dict:\n",
    "        info = students_dict[student_id][:-1]\n",
    "        info.append(group_id)\n",
    "        students_dict[student_id] = info"
   ]
  },
  {
   "cell_type": "code",
   "execution_count": 8,
   "metadata": {},
   "outputs": [],
   "source": [
    "def FIO(students_dict, group_id):\n",
    "    generator = [' '.join(item[0:3]) for item in students_dict.values() if item[-1] == group_id]\n",
    "    print('\\n'.join(generator))"
   ]
  },
  {
   "cell_type": "code",
   "execution_count": 9,
   "metadata": {},
   "outputs": [],
   "source": [
    "students = [\n",
    "    [\"0001\", \"Антонов\", \"Антон\", \"Игоревич\", \"20.08.2009\", \"БСТ161\"],\n",
    "    [\"1102\", \"Богов\", \"Артем\", \"Игоревич\", \"25.01.2010\", \"БСТ162\"],\n",
    "    [\"0333\", \"Глаголева\", \"Анастасия\", \"Николаевна\", \"11.07.2009\", \"БСТ163\"],\n",
    "    [\"4004\", \"Степанова\", \"Наталья\", \"Александровна\", \"13.02.2008\", \"БСТ161\"],\n",
    "    [\"0045\", \"Боков\", \"Игорь\", \"Харитонович\", \"02.06.2009\", \"БСТ161\"],\n",
    "    [\"0096\", \"Васильков\", \"Валентин\", \"Сергеевич\", \"20.03.2009\", \"БСТ164\"],\n",
    "    [\"0607\", \"Сиропова\", \"Виолетта\", \"Эдуардовна\", \"28.05.2010\", \"БСТ162\"]\n",
    "]"
   ]
  },
  {
   "cell_type": "code",
   "execution_count": 10,
   "metadata": {},
   "outputs": [],
   "source": [
    "students_dict = {item[0]: item[1:] for item in students}\n",
    "ch_group(students_dict, '0001', 'Новая_группа')"
   ]
  },
  {
   "cell_type": "code",
   "execution_count": 11,
   "metadata": {},
   "outputs": [
    {
     "name": "stdout",
     "output_type": "stream",
     "text": [
      "БСТ161:\n",
      "Степанова Наталья Александровна\n",
      "Боков Игорь Харитонович\n"
     ]
    }
   ],
   "source": [
    "print('БСТ161:')\n",
    "FIO(students_dict, 'БСТ161')"
   ]
  },
  {
   "cell_type": "code",
   "execution_count": null,
   "metadata": {},
   "outputs": [],
   "source": []
  }
 ],
 "metadata": {
  "kernelspec": {
   "display_name": "Python 3",
   "language": "python",
   "name": "python3"
  },
  "language_info": {
   "codemirror_mode": {
    "name": "ipython",
    "version": 3
   },
   "file_extension": ".py",
   "mimetype": "text/x-python",
   "name": "python",
   "nbconvert_exporter": "python",
   "pygments_lexer": "ipython3",
   "version": "3.8.3"
  }
 },
 "nbformat": 4,
 "nbformat_minor": 4
}
