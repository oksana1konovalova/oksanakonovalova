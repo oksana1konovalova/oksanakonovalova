{
 "cells": [
  {
   "cell_type": "code",
   "execution_count": 1,
   "metadata": {},
   "outputs": [
    {
     "name": "stdout",
     "output_type": "stream",
     "text": [
      "Введите словоtest\n",
      "es\n"
     ]
    }
   ],
   "source": [
    "word = input (\"Введите слово\")\n",
    "if (len(word) % 2) <= 0:\n",
    "    print(word[(len(word) // 2) - 1] + word[(len(word) // 2)])\n",
    "else:\n",
    "    print(word[(len(word) // 2)])\n",
    "    "
   ]
  },
  {
   "cell_type": "code",
   "execution_count": 2,
   "metadata": {},
   "outputs": [
    {
     "name": "stdout",
     "output_type": "stream",
     "text": [
      "Введите словоtesting\n",
      "t\n"
     ]
    }
   ],
   "source": [
    "word = input (\"Введите слово\")\n",
    "if (len(word) % 2) <= 0:\n",
    "    print(word[(len(word) // 2) - 1] + word[(len(word) // 2)])\n",
    "else:\n",
    "    print(word[(len(word) // 2)])\n",
    "    "
   ]
  },
  {
   "cell_type": "code",
   "execution_count": 3,
   "metadata": {},
   "outputs": [
    {
     "name": "stdout",
     "output_type": "stream",
     "text": [
      "Введите число\n",
      "5\n",
      "Введите число\n",
      "1\n",
      "Введите число\n",
      "3\n",
      "Введите число\n",
      "0\n",
      "9\n"
     ]
    }
   ],
   "source": [
    "a = 1\n",
    "summ = 0\n",
    "while (a > 0) and (a != 0):\n",
    "    print('Введите число')\n",
    "    a = int(input())\n",
    "    summ += a\n",
    "print(summ)"
   ]
  },
  {
   "cell_type": "code",
   "execution_count": 4,
   "metadata": {},
   "outputs": [
    {
     "name": "stdout",
     "output_type": "stream",
     "text": [
      "Введите число\n",
      "0\n",
      "0\n"
     ]
    }
   ],
   "source": [
    "a = 1\n",
    "summ = 0\n",
    "while (a > 0) and (a != 0):\n",
    "    print('Введите число')\n",
    "    a = int(input())\n",
    "    summ += a\n",
    "print(summ)\n"
   ]
  },
  {
   "cell_type": "code",
   "execution_count": 5,
   "metadata": {},
   "outputs": [
    {
     "name": "stdout",
     "output_type": "stream",
     "text": [
      "Идеальные пары:\n",
      "Alex и Emma\n",
      "Arthur и Kate\n",
      "John и Kira\n",
      "Peter и Liza\n",
      "Richard и Trisha\n"
     ]
    }
   ],
   "source": [
    "boys = ['Peter', 'Alex', 'John', 'Arthur', 'Richard']\n",
    "girls = ['Kate', 'Liza', 'Kira', 'Emma','Trisha']\n",
    "if len(boys) != len(girls):\n",
    "    print('Внимание, кто-то может остаться без пары!')\n",
    "else:\n",
    "    boys_s = sorted(boys)\n",
    "    girls_s = sorted(girls)\n",
    "    print('Идеальные пары:')\n",
    "    i = 0\n",
    "    for i in range(len(boys)):\n",
    "        print(boys_s[i] + ' и ' + girls_s[i])"
   ]
  },
  {
   "cell_type": "code",
   "execution_count": 6,
   "metadata": {},
   "outputs": [
    {
     "name": "stdout",
     "output_type": "stream",
     "text": [
      "Внимание, кто-то может остаться без пары!\n"
     ]
    }
   ],
   "source": [
    "boys = ['Peter', 'Alex', 'John', 'Arthur', 'Richard', \"Michael\"]\n",
    "girls = ['Kate', 'Liza', 'Kira', 'Emma','Trisha']\n",
    "if len(boys) != len(girls):\n",
    "    print('Внимание, кто-то может остаться без пары!')\n",
    "else:\n",
    "    boys_s = sorted(boys)\n",
    "    girls_s = sorted(girls)\n",
    "    print('Идеальные пары:')\n",
    "    i = 0\n",
    "    for i in range(len(boys)):\n",
    "        print(boys_s[i] + ' и ' + girls_s[i])"
   ]
  },
  {
   "cell_type": "code",
   "execution_count": 7,
   "metadata": {},
   "outputs": [
    {
     "name": "stdout",
     "output_type": "stream",
     "text": [
      "Средняя температура в странах:\n",
      "Thailand - 23.9 C \n",
      "Germany - 13.8 C \n",
      "Russia - 3.7 C \n",
      "Poland - 12.0 C \n"
     ]
    }
   ],
   "source": [
    "countries_temperature = [\n",
    "    ['Thailand', [75.2, 77, 78.8, 73.4, 68, 75.2, 77]],\n",
    "    ['Germany', [57.2, 55.4, 59, 59, 53.6]],\n",
    "    ['Russia', [35.6, 37.4, 39.2, 41, 42.8, 39.2, 35.6]],\n",
    "    ['Poland', [50, 50, 53.6, 57.2, 55.4, 55.4]]\n",
    "]\n",
    "temp = [0, 0, 0, 0]\n",
    "print('Средняя температура в странах:')\n",
    "for i in range(len(countries_temperature)):\n",
    "    tempsr = 0\n",
    "    for j in range(len(countries_temperature[i][1])):\n",
    "        tempsr += countries_temperature[i][1][j]\n",
    "        temp[i] = (tempsr / (len(countries_temperature[i][1])) - 32) * 5 / 9\n",
    "    print(countries_temperature[i][0] + ' - ' + str(round(temp[i], 1)) + ' C ')"
   ]
  },
  {
   "cell_type": "code",
   "execution_count": 8,
   "metadata": {},
   "outputs": [
    {
     "name": "stdout",
     "output_type": "stream",
     "text": [
      "Среднее количество просмотров на уникального пользователя: 23.25\n"
     ]
    }
   ],
   "source": [
    "stream = [\n",
    "    '2018-01-01,user1,3',\n",
    "    '2018-01-07,user1,4',\n",
    "    '2018-03-29,user1,1',\n",
    "    '2018-04-04,user1,13',\n",
    "    '2018-01-05,user2,7',\n",
    "    '2018-06-14,user3,4',\n",
    "    '2018-07-02,user3,10',\n",
    "    '2018-03-21,user4,19',\n",
    "    '2018-03-22,user4,4',\n",
    "    '2018-04-22,user4,8',\n",
    "    '2018-05-03,user4,9',\n",
    "    '2018-05-11,user4,11',\n",
    "]\n",
    "k = 'user0'\n",
    "j = 0\n",
    "s = 0\n",
    "for i in range(len(stream)):\n",
    "    s += float(stream[i].split(',')[2])\n",
    "    n = stream[i].split(',')[1]\n",
    "    if n != k:\n",
    "        j += 1\n",
    "        k = n\n",
    "print('Среднее количество просмотров на уникального пользователя:',(round(s/j,2)))"
   ]
  },
  {
   "cell_type": "code",
   "execution_count": 9,
   "metadata": {},
   "outputs": [
    {
     "name": "stdout",
     "output_type": "stream",
     "text": [
      "Среднее количество просмотров на уникального пользователя: 145.33\n"
     ]
    }
   ],
   "source": [
    "stream = [\n",
    "    '2018-01-01,user100,150',\n",
    "    '2018-01-07,user99,205',\n",
    "    '2018-03-29,user1001,81',\n",
    "]\n",
    "k = 'user0'\n",
    "j = 0\n",
    "s = 0\n",
    "for i in range(len(stream)):\n",
    "    s += float(stream[i].split(',')[2])\n",
    "    n = stream[i].split(',')[1]\n",
    "    if n != k:\n",
    "        j += 1\n",
    "        k = n\n",
    "print('Среднее количество просмотров на уникального пользователя:',(round(s/j,2)))"
   ]
  },
  {
   "cell_type": "code",
   "execution_count": 10,
   "metadata": {},
   "outputs": [
    {
     "name": "stdout",
     "output_type": "stream",
     "text": [
      "Введите числа1 5 9 7 8\n"
     ]
    }
   ],
   "source": [
    "a = input(\"Введите числа\")\n",
    "b = [0 for i in range(len(a))]\n",
    "a = a.split(' ')\n",
    "for i in range(len(a)):\n",
    "    for j in range(i+1,len(a)):\n",
    "        if a[i] == a[j]:\n",
    "            b[i] += 1\n",
    "for i in range(len(b)):\n",
    "    if b[i] == 1:\n",
    "        print(a[i],end=' ')"
   ]
  },
  {
   "cell_type": "code",
   "execution_count": 11,
   "metadata": {},
   "outputs": [
    {
     "name": "stdout",
     "output_type": "stream",
     "text": [
      "Введите числа1 5 9 9 4 1 0\n",
      "1 9 "
     ]
    }
   ],
   "source": [
    "a = input(\"Введите числа\")\n",
    "b = [0 for i in range(len(a))]\n",
    "a = a.split(' ')\n",
    "for i in range(len(a)):\n",
    "    for j in range(i+1,len(a)):\n",
    "        if a[i] == a[j]:\n",
    "            b[i] += 1\n",
    "for i in range(len(b)):\n",
    "    if b[i] == 1:\n",
    "        print(a[i],end=' ')"
   ]
  },
  {
   "cell_type": "code",
   "execution_count": null,
   "metadata": {},
   "outputs": [],
   "source": []
  }
 ],
 "metadata": {
  "kernelspec": {
   "display_name": "Python 3",
   "language": "python",
   "name": "python3"
  },
  "language_info": {
   "codemirror_mode": {
    "name": "ipython",
    "version": 3
   },
   "file_extension": ".py",
   "mimetype": "text/x-python",
   "name": "python",
   "nbconvert_exporter": "python",
   "pygments_lexer": "ipython3",
   "version": "3.8.3"
  }
 },
 "nbformat": 4,
 "nbformat_minor": 4
}
