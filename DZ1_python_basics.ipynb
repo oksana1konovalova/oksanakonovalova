{
 "cells": [
  {
   "cell_type": "code",
   "execution_count": 9,
   "metadata": {},
   "outputs": [
    {
     "name": "stdout",
     "output_type": "stream",
     "text": [
      "Фраза 1 длиннее фразы 2\n"
     ]
    }
   ],
   "source": [
    "phrase_1 = \"Насколько проще было бы писать программы, если бы не заказчики\"\n",
    "phrase_2 = \"640Кб должно хватить для любых задач. Билл Гейтс (по легенде)\"\n",
    "if phrase_1 > phrase_2:\n",
    "    print (\"Фраза 1 длиннее фразы 2\")\n",
    "elif phrase_1 < phrase_2:\n",
    "    print (\"Фраза 2 длиннее фразы 1\")\n",
    "else:\n",
    "    print (\"Фразы равной длины\")"
   ]
  },
  {
   "cell_type": "code",
   "execution_count": 13,
   "metadata": {},
   "outputs": [
    {
     "name": "stdout",
     "output_type": "stream",
     "text": [
      "Фраза 2 длиннее фразы 1\n"
     ]
    }
   ],
   "source": [
    "phrase_1 = \"640Кб должно хватить для любых задач. Билл Гейтс (по легенде)\"\n",
    "phrase_2 = \"Насколько проще было бы писать программы, если бы не заказчики\"\n",
    "if phrase_1 > phrase_2:\n",
    "    print (\"Фраза 1 длиннее фразы 2\")\n",
    "elif phrase_1 < phrase_2:\n",
    "    print (\"Фраза 2 длиннее фразы 1\")\n",
    "else:\n",
    "    print (\"Фразы равной длины\")\n"
   ]
  },
  {
   "cell_type": "code",
   "execution_count": 14,
   "metadata": {},
   "outputs": [
    {
     "name": "stdout",
     "output_type": "stream",
     "text": [
      "Фразы равной длины\n"
     ]
    }
   ],
   "source": [
    "phrase_1 = \"640Кб должно хватить для любых задач. Билл Гейтс (по легенде)\"\n",
    "phrase_2 = \"640Кб должно хватить для любых задач. Билл Гейтс (по легенде)\"\n",
    "if phrase_1 > phrase_2:\n",
    "    print (\"Фраза 1 длиннее фразы 2\")\n",
    "elif phrase_1 < phrase_2:\n",
    "    print (\"Фраза 2 длиннее фразы 1\")\n",
    "else:\n",
    "    print (\"Фразы равной длины\")"
   ]
  },
  {
   "cell_type": "code",
   "execution_count": 25,
   "metadata": {},
   "outputs": [
    {
     "name": "stdout",
     "output_type": "stream",
     "text": [
      "Введите год2020\n",
      "Високосный\n"
     ]
    }
   ],
   "source": [
    "year = int(input(\"Введите год\"))\n",
    "\n",
    "if year % 400 == 0:\n",
    "    print(\"Високосный\") \n",
    "elif year % 100 == 0:\n",
    "    print(\"Обычный\")\n",
    "elif year % 4 == 0:\n",
    "    print(\"Високосный\")\n",
    "else:\n",
    "    print (\"Обычный\")"
   ]
  },
  {
   "cell_type": "code",
   "execution_count": 26,
   "metadata": {},
   "outputs": [
    {
     "name": "stdout",
     "output_type": "stream",
     "text": [
      "Введите год2019\n",
      "Обычный\n"
     ]
    }
   ],
   "source": [
    "year = int(input(\"Введите год\"))\n",
    "\n",
    "if year % 400 == 0:\n",
    "    print(\"Високосный\") \n",
    "elif year % 100 == 0:\n",
    "    print(\"Обычный\")\n",
    "elif year % 4 == 0:\n",
    "    print(\"Високосный\")\n",
    "else:\n",
    "    print (\"Обычный\")"
   ]
  },
  {
   "cell_type": "code",
   "execution_count": 28,
   "metadata": {},
   "outputs": [
    {
     "name": "stdout",
     "output_type": "stream",
     "text": [
      "Введите день рождения31\n",
      "Введите месяц рождения1\n",
      "Ваш знак зодиака - Водолей\n"
     ]
    }
   ],
   "source": [
    "day = int(input(\"Введите день рождения\"))\n",
    "month = int(input(\"Введите месяц рождения\"))\n",
    "\n",
    "if day>=21 and day<=31 and month==1 or day>1 and day<=18 and month==2:\n",
    "    print(\"Ваш знак зодиака - Водолей\")\n",
    "elif day>=19 and day<=29 and month==2 or day>1 and day<=20 and month==3:\n",
    "    print(\"Ваш знак зодиака - Рыбы\")\n",
    "elif day>=21 and day<=31 and month==3 or day>1 and day<=19 and month==4:\n",
    "    print(\"Ваш знак зодиака - Овен\")\n",
    "elif day>=20 and day<=30 and month==4 or day>1 and day<=20 and month==5:\n",
    "    print(\"Ваш знак зодиака - Телец\")\n",
    "elif day>=21 and day<=31 and month==5 or day>1 and day<=21 and month==6:\n",
    "    print(\"Ваш знак зодиака - Близнецы\")\n",
    "elif day>=22 and day<=30 and month==6 or day>1 and day<=22 and month==7:\n",
    "    print(\"Ваш знак зодиака - Рак\")\n",
    "elif day>=23 and day<=31 and month==7 or day>1 and day<=22 and month==8:\n",
    "    print(\"Ваш знак зодиака - Лев\")\n",
    "elif day>=23 and day<=31 and month==8 or day>1 and day<=22 and month==9:\n",
    "    print(\"Ваш знак зодиака - Дева\")\n",
    "elif day>=23 and day<=30 and month==9 or day>1 and day<=23 and month==10:\n",
    "    print(\"Ваш знак зодиака - Весы\")\n",
    "elif day>=24 and day<=31 and month==10 or day>1 and day<=22 and month==11:\n",
    "    print(\"Ваш знак зодиака - Скорпион\")\n",
    "elif day>=23 and day<=30 and month==11 or day>1 and day<=21 and month==12:\n",
    "    print(\"Ваш знак зодиака - Стрелец\")\n",
    "elif day>=22 and day<=31 and month==12 or day>1 and day<=20 and month==1:\n",
    "    print(\"Ваш знак зодиака - Козерог\")\n",
    "    "
   ]
  },
  {
   "cell_type": "code",
   "execution_count": 39,
   "metadata": {},
   "outputs": [
    {
     "name": "stdout",
     "output_type": "stream",
     "text": [
      "Стандартная коробка №3\n"
     ]
    }
   ],
   "source": [
    "width = 10\n",
    "length = 205\n",
    "height = 5\n",
    "\n",
    "if width < 15 and length < 15 and height < 15:\n",
    "    print(\"Коробка №1\")\n",
    "elif (15 < width > 50) and (15 < length > 50) and (15 < height > 50):\n",
    "    print(\"Коробка №2\")\n",
    "elif length > 205:\n",
    "    print(\"Упаковка для лыж\")\n",
    "else:\n",
    "    print(\"Стандартная коробка №3\")"
   ]
  },
  {
   "cell_type": "code",
   "execution_count": 34,
   "metadata": {},
   "outputs": [
    {
     "name": "stdout",
     "output_type": "stream",
     "text": [
      "123456\n",
      "Несчастливый билет\n"
     ]
    }
   ],
   "source": [
    "number = input()\n",
    "if sum([int(char) for char in number[:3]]) == sum([int(char) for char in number[-3:]]):\n",
    "    print('Счастливый билет')\n",
    "else:\n",
    "    print('Несчастливый билет')"
   ]
  },
  {
   "cell_type": "code",
   "execution_count": 35,
   "metadata": {},
   "outputs": [
    {
     "name": "stdout",
     "output_type": "stream",
     "text": [
      "123321\n",
      "Счастливый билет\n"
     ]
    }
   ],
   "source": [
    "number = input()\n",
    "if sum([int(char) for char in number[:3]]) == sum([int(char) for char in number[-3:]]):\n",
    "    print('Счастливый билет')\n",
    "else:\n",
    "    print('Несчастливый билет')\n",
    "    "
   ]
  },
  {
   "cell_type": "code",
   "execution_count": 38,
   "metadata": {},
   "outputs": [
    {
     "name": "stdout",
     "output_type": "stream",
     "text": [
      "Введите название фигуры =треугольник\n",
      "Введите сторону a =2\n",
      "Введите сторону b =2\n",
      "Введите сторону c =3\n",
      "1.984313483298443\n"
     ]
    }
   ],
   "source": [
    "import math   \n",
    "fig=str(input(\"Введите название фигуры =\")) \n",
    "if fig==\"круг\":      \n",
    "    r=float(input(\"Введите радиус r =\"))      \n",
    "    S=math.pi*(r**2)   \n",
    "    print(S)\n",
    "elif fig==\"треугольник\":       \n",
    "    a=float(input(\"Введите сторону a =\"))      \n",
    "    b=float(input(\"Введите сторону b =\"))      \n",
    "    c=float(input(\"Введите сторону c =\"))      \n",
    "    p=(a+b+c)/2      \n",
    "    S=math.sqrt((p*(p-a)*(p-b)*(p-c)))  \n",
    "    print(S)\n",
    "elif fig==\"прямоугольник\":       \n",
    "    a=float(input(\"Введите сторону a =\"))      \n",
    "    b=float(input(\"Введите сторону b =\"))      \n",
    "    S=a*b  \n",
    "    print(S)"
   ]
  },
  {
   "cell_type": "code",
   "execution_count": null,
   "metadata": {},
   "outputs": [],
   "source": []
  }
 ],
 "metadata": {
  "kernelspec": {
   "display_name": "Python 3",
   "language": "python",
   "name": "python3"
  },
  "language_info": {
   "codemirror_mode": {
    "name": "ipython",
    "version": 3
   },
   "file_extension": ".py",
   "mimetype": "text/x-python",
   "name": "python",
   "nbconvert_exporter": "python",
   "pygments_lexer": "ipython3",
   "version": "3.8.3"
  }
 },
 "nbformat": 4,
 "nbformat_minor": 4
}
